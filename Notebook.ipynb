{
  "cells": [
    {
      "cell_type": "markdown",
      "id": "5b86e72d",
      "metadata": {
        "id": "5b86e72d"
      },
      "source": [
        "# Solar Flares\n",
        "Amelia Hoyos y Valentina Vasquez."
      ]
    },
    {
      "cell_type": "markdown",
      "source": [
        "##**Entendimiento de Negocio**"
      ],
      "metadata": {
        "id": "49RMfmyx--fS"
      },
      "id": "49RMfmyx--fS"
    }
  ],
  "metadata": {
    "colab": {
      "provenance": []
    },
    "kernelspec": {
      "display_name": "Python 3 (ipykernel)",
      "language": "python",
      "name": "python3"
    },
    "language_info": {
      "codemirror_mode": {
        "name": "ipython",
        "version": 3
      },
      "file_extension": ".py",
      "mimetype": "text/x-python",
      "name": "python",
      "nbconvert_exporter": "python",
      "pygments_lexer": "ipython3",
      "version": "3.11.5"
    }
  },
  "nbformat": 4,
  "nbformat_minor": 5
}